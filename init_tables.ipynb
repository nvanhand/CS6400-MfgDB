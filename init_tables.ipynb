{
 "cells": [
  {
   "cell_type": "code",
   "execution_count": 76,
   "metadata": {},
   "outputs": [
    {
     "name": "stdout",
     "output_type": "stream",
     "text": [
      "Requirement already satisfied: pip in /Users/nikkivanhandel/opt/anaconda3/lib/python3.9/site-packages (24.3.1)\n",
      "Collecting psycopg2-binary\n",
      "  Downloading psycopg2_binary-2.9.10-cp39-cp39-macosx_12_0_x86_64.whl.metadata (4.9 kB)\n",
      "Downloading psycopg2_binary-2.9.10-cp39-cp39-macosx_12_0_x86_64.whl (3.0 MB)\n",
      "\u001b[2K   \u001b[90m━━━━━━━━━━━━━━━━━━━━━━━━━━━━━━━━━━━━━━━━\u001b[0m \u001b[32m3.0/3.0 MB\u001b[0m \u001b[31m35.8 MB/s\u001b[0m eta \u001b[36m0:00:00\u001b[0m\n",
      "\u001b[?25hInstalling collected packages: psycopg2-binary\n",
      "Successfully installed psycopg2-binary-2.9.10\n"
     ]
    }
   ],
   "source": [
    "!pip install --upgrade pip\n",
    "!pip install \"psycopg2-binary\""
   ]
  },
  {
   "cell_type": "code",
   "execution_count": 71,
   "metadata": {},
   "outputs": [
    {
     "name": "stdout",
     "output_type": "stream",
     "text": [
      "Connection established\n"
     ]
    }
   ],
   "source": [
    "import psycopg2 as pg\n",
    "import os\n",
    "from psycopg2 import sql\n",
    "\n",
    "connection_dict = {\"host\": \"ampfdb.postgres.database.azure.com\",\n",
    "                   \"dbname\": \"machine_data\", \n",
    "                   \"user\": \"georgeburdell\",\n",
    "                   \"password\": \"Buzz1972\",\n",
    "                   \"sslmode\": \"require\",\n",
    "                   \"connect_timeout\": 10\n",
    "                   }\n",
    "\n",
    "# Construct connection string\n",
    "conn = pg.connect(**connection_dict)\n",
    "\n",
    "print(\"Connection established\")\n",
    "\n",
    "cursor = conn.cursor()\n",
    "\n",
    "#query = 'GRANT ALL ON SCHEMA public TO waamuser;'"
   ]
  },
  {
   "cell_type": "code",
   "execution_count": 69,
   "metadata": {},
   "outputs": [
    {
     "name": "stdout",
     "output_type": "stream",
     "text": [
      "successful transaction\n"
     ]
    }
   ],
   "source": [
    "cursor.execute(f\"DROP TABLE IF EXISTS eos_m280\")\n",
    "conn.commit()\n",
    "\n",
    "with open(os.path.join('table_strings', 'eos_m280'), 'r') as f:\n",
    "    query = f.read()\n",
    "    try:\n",
    "        cursor.execute(query)\n",
    "        print(\"successful transaction\")\n",
    "        conn.commit()\n",
    "    except:\n",
    "        print('error')\n",
    "        conn.rollback()"
   ]
  },
  {
   "cell_type": "code",
   "execution_count": 3,
   "metadata": {},
   "outputs": [],
   "source": [
    "try: \n",
    "    cursor.execute(\"\"\"SELECT *\n",
    "                   FROM information_schema.columns\n",
    "                   WHERE  table_name   = 'eos_m280';\n",
    "                   \"\"\")\n",
    "    build_schema = []\n",
    "    for table in cursor.fetchall():\n",
    "            build_schema.append(table[3])\n",
    "    conn.commit()\n",
    "except:\n",
    "    conn.rollback()"
   ]
  },
  {
   "cell_type": "code",
   "execution_count": 72,
   "metadata": {},
   "outputs": [],
   "source": [
    "mapping = {'BuildDescription&Purpose': 'build_desc',\n",
    " 'BuildPlateType': 'build_plate_type',\n",
    " 'BuildShiftX': 'build_shift_x',\n",
    " 'BuildShiftY': 'build_shift_y',\n",
    " 'Customer': 'customer',\n",
    " 'DatePrinted': 'date_printed',\n",
    " 'Dosingboost': 'dosing_boost',\n",
    " 'PrintTime': 'est_print_time',\n",
    " 'FileLocation': 'build_file_path',\n",
    " 'GasFlowVoltage': 'gas_flow_voltage',\n",
    " 'LaserHours': 'laser_hours',\n",
    " 'MaxCharge': 'max_charge',\n",
    " 'MinCharge': 'min_charge',\n",
    " 'Nickname': 'build_nickname',\n",
    " 'Operator': 'operator',\n",
    " 'PartHeight': 'part_height',\n",
    " 'Post-BuildNotes': 'postbuild_notes',\n",
    " 'PowderHeightUsed': 'used_powder_height',\n",
    " 'Pre-BuildNotes': 'prebuild_notes',\n",
    " 'RecoaterType': 'recoater_type',\n",
    " 'Successful': 'successful',\n",
    " 'TotalPartVolume': 'total_part_volume',\n",
    " 'hopper_start': 'hopper_start_level',\n",
    " 'hoppser_end': 'hopper_end_level',\n",
    " 'ParameterFileName': 'parameter_set'}\n"
   ]
  },
  {
   "cell_type": "code",
   "execution_count": 105,
   "metadata": {},
   "outputs": [],
   "source": [
    "import pandas as pd\n",
    "import numpy as np\n",
    "eos = pd.read_excel(\"eos_builds.xlsx\")\n",
    "\n",
    "eos = eos.rename(columns=mapping)\n",
    "eos['build_id'] = eos['build_id'].str.lstrip('B').str.lstrip('0').astype(int)\n",
    "eos = eos.replace(np.nan, \"NULL\")\n",
    "eos['powder_lot'] = \"NULL\"\n",
    "eos = eos.loc[:, build_schema]\n",
    "eos.to_csv('eos_builds.csv' , index=False, header=False, sep='|')"
   ]
  },
  {
   "cell_type": "code",
   "execution_count": null,
   "metadata": {},
   "outputs": [
    {
     "ename": "AttributeError",
     "evalue": "'Series' object has no attribute 'type'",
     "output_type": "error",
     "traceback": [
      "\u001b[0;31m---------------------------------------------------------------------------\u001b[0m",
      "\u001b[0;31mAttributeError\u001b[0m                            Traceback (most recent call last)",
      "Cell \u001b[0;32mIn[120], line 2\u001b[0m\n\u001b[1;32m      1\u001b[0m \u001b[38;5;28;01mfor\u001b[39;00m col \u001b[38;5;129;01min\u001b[39;00m eos\u001b[38;5;241m.\u001b[39mcolumns:\n\u001b[0;32m----> 2\u001b[0m     \u001b[38;5;28;01mif\u001b[39;00m \u001b[43meos\u001b[49m\u001b[43m[\u001b[49m\u001b[43mcol\u001b[49m\u001b[43m]\u001b[49m\u001b[38;5;241;43m.\u001b[39;49m\u001b[43mtype\u001b[49m \u001b[38;5;241m==\u001b[39m \u001b[38;5;28mstr\u001b[39m:\n\u001b[1;32m      3\u001b[0m         \u001b[38;5;28mprint\u001b[39m(col)\n\u001b[1;32m      4\u001b[0m         \u001b[38;5;28mprint\u001b[39m(np\u001b[38;5;241m.\u001b[39many(eos[col]\u001b[38;5;241m.\u001b[39mstr\u001b[38;5;241m.\u001b[39mcontains(\u001b[38;5;124m'\u001b[39m\u001b[38;5;124m|\u001b[39m\u001b[38;5;124m'\u001b[39m)))\n",
      "File \u001b[0;32m~/opt/anaconda3/lib/python3.9/site-packages/pandas/core/generic.py:6204\u001b[0m, in \u001b[0;36mNDFrame.__getattr__\u001b[0;34m(self, name)\u001b[0m\n\u001b[1;32m   6197\u001b[0m \u001b[38;5;28;01mif\u001b[39;00m (\n\u001b[1;32m   6198\u001b[0m     name \u001b[38;5;129;01mnot\u001b[39;00m \u001b[38;5;129;01min\u001b[39;00m \u001b[38;5;28mself\u001b[39m\u001b[38;5;241m.\u001b[39m_internal_names_set\n\u001b[1;32m   6199\u001b[0m     \u001b[38;5;129;01mand\u001b[39;00m name \u001b[38;5;129;01mnot\u001b[39;00m \u001b[38;5;129;01min\u001b[39;00m \u001b[38;5;28mself\u001b[39m\u001b[38;5;241m.\u001b[39m_metadata\n\u001b[1;32m   6200\u001b[0m     \u001b[38;5;129;01mand\u001b[39;00m name \u001b[38;5;129;01mnot\u001b[39;00m \u001b[38;5;129;01min\u001b[39;00m \u001b[38;5;28mself\u001b[39m\u001b[38;5;241m.\u001b[39m_accessors\n\u001b[1;32m   6201\u001b[0m     \u001b[38;5;129;01mand\u001b[39;00m \u001b[38;5;28mself\u001b[39m\u001b[38;5;241m.\u001b[39m_info_axis\u001b[38;5;241m.\u001b[39m_can_hold_identifiers_and_holds_name(name)\n\u001b[1;32m   6202\u001b[0m ):\n\u001b[1;32m   6203\u001b[0m     \u001b[38;5;28;01mreturn\u001b[39;00m \u001b[38;5;28mself\u001b[39m[name]\n\u001b[0;32m-> 6204\u001b[0m \u001b[38;5;28;01mreturn\u001b[39;00m \u001b[38;5;28;43mobject\u001b[39;49m\u001b[38;5;241;43m.\u001b[39;49m\u001b[38;5;21;43m__getattribute__\u001b[39;49m\u001b[43m(\u001b[49m\u001b[38;5;28;43mself\u001b[39;49m\u001b[43m,\u001b[49m\u001b[43m \u001b[49m\u001b[43mname\u001b[49m\u001b[43m)\u001b[49m\n",
      "\u001b[0;31mAttributeError\u001b[0m: 'Series' object has no attribute 'type'"
     ]
    }
   ],
   "source": [
    "for col in eos.columns:\n",
    "    if eos[col].dtype == str:\n",
    "        print(col)\n",
    "        print(np.any(eos[col].str.contains('|')))"
   ]
  },
  {
   "cell_type": "code",
   "execution_count": 74,
   "metadata": {},
   "outputs": [],
   "source": [
    "with open('eos_builds.csv', \"r\") as file:\n",
    "    try:\n",
    "        cursor.copy_from(file, \"eos_m280\", sep=\",\", null=\"None\")\n",
    "        print(\"Successful Copy\")\n",
    "        conn.commit()\n",
    "    except:\n",
    "        conn.rollback()\n"
   ]
  },
  {
   "cell_type": "code",
   "execution_count": 109,
   "metadata": {},
   "outputs": [
    {
     "ename": "StringDataRightTruncation",
     "evalue": "value too long for type character varying(50)\nCONTEXT:  COPY eos_m280, line 44, column parameter_set: \"Aurellio's variable parameter parts. Spinodal lattices for Sanders. Jessie's experiment. ISO artifac...\"\n",
     "output_type": "error",
     "traceback": [
      "\u001b[0;31m---------------------------------------------------------------------------\u001b[0m",
      "\u001b[0;31mStringDataRightTruncation\u001b[0m                 Traceback (most recent call last)",
      "Cell \u001b[0;32mIn[109], line 2\u001b[0m\n\u001b[1;32m      1\u001b[0m \u001b[38;5;28;01mwith\u001b[39;00m \u001b[38;5;28mopen\u001b[39m(\u001b[38;5;124m'\u001b[39m\u001b[38;5;124meos_builds.csv\u001b[39m\u001b[38;5;124m'\u001b[39m, \u001b[38;5;124m\"\u001b[39m\u001b[38;5;124mr\u001b[39m\u001b[38;5;124m\"\u001b[39m) \u001b[38;5;28;01mas\u001b[39;00m file:\n\u001b[0;32m----> 2\u001b[0m     \u001b[43mcursor\u001b[49m\u001b[38;5;241;43m.\u001b[39;49m\u001b[43mcopy_from\u001b[49m\u001b[43m(\u001b[49m\u001b[43mfile\u001b[49m\u001b[43m,\u001b[49m\u001b[43m \u001b[49m\u001b[38;5;124;43m\"\u001b[39;49m\u001b[38;5;124;43meos_m280\u001b[39;49m\u001b[38;5;124;43m\"\u001b[39;49m\u001b[43m,\u001b[49m\u001b[43m \u001b[49m\u001b[43msep\u001b[49m\u001b[38;5;241;43m=\u001b[39;49m\u001b[38;5;124;43m'\u001b[39;49m\u001b[38;5;124;43m|\u001b[39;49m\u001b[38;5;124;43m'\u001b[39;49m\u001b[43m,\u001b[49m\u001b[43m \u001b[49m\u001b[43mnull\u001b[49m\u001b[38;5;241;43m=\u001b[39;49m\u001b[38;5;124;43m\"\u001b[39;49m\u001b[38;5;124;43mNULL\u001b[39;49m\u001b[38;5;124;43m\"\u001b[39;49m\u001b[43m,\u001b[49m\u001b[43m \u001b[49m\u001b[43mcolumns\u001b[49m\u001b[43m \u001b[49m\u001b[38;5;241;43m=\u001b[39;49m\u001b[43m \u001b[49m\u001b[43meos\u001b[49m\u001b[38;5;241;43m.\u001b[39;49m\u001b[43mcolumns\u001b[49m\u001b[43m)\u001b[49m\n",
      "\u001b[0;31mStringDataRightTruncation\u001b[0m: value too long for type character varying(50)\nCONTEXT:  COPY eos_m280, line 44, column parameter_set: \"Aurellio's variable parameter parts. Spinodal lattices for Sanders. Jessie's experiment. ISO artifac...\"\n"
     ]
    }
   ],
   "source": [
    "with open('eos_builds.csv', \"r\") as file:\n",
    "    cursor.copy_from(file, \"eos_m280\", sep='|', null=\"NULL\", columns = eos.columns)"
   ]
  },
  {
   "cell_type": "code",
   "execution_count": 108,
   "metadata": {},
   "outputs": [],
   "source": [
    "conn.rollback()"
   ]
  },
  {
   "cell_type": "code",
   "execution_count": null,
   "metadata": {},
   "outputs": [],
   "source": [
    "cursor.close()\n",
    "conn.close()"
   ]
  }
 ],
 "metadata": {
  "kernelspec": {
   "display_name": "base",
   "language": "python",
   "name": "python3"
  },
  "language_info": {
   "codemirror_mode": {
    "name": "ipython",
    "version": 3
   },
   "file_extension": ".py",
   "mimetype": "text/x-python",
   "name": "python",
   "nbconvert_exporter": "python",
   "pygments_lexer": "ipython3",
   "version": "3.9.16"
  }
 },
 "nbformat": 4,
 "nbformat_minor": 2
}
