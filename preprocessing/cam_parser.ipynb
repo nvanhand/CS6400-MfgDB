{
 "cells": [
  {
   "cell_type": "code",
   "execution_count": 2,
   "id": "6bb05ecd",
   "metadata": {},
   "outputs": [],
   "source": [
    "import re\n",
    "import json\n",
    "\n",
    "columnSeparator = \"|\"\n",
    "\n",
    "\"\"\"\n",
    "Normalize the build name to ensure consistency (e.g., add leading zeros).\n",
    "\"\"\"\n",
    "def normalize_build(build):\n",
    "    match = re.match(r\"(B)(\\d+)\", build)\n",
    "    if match:\n",
    "        prefix, number = match.groups()\n",
    "        normalized_number = f\"{int(number):03}\"\n",
    "        return f\"{prefix}{normalized_number}\"\n",
    "    return build \n",
    "\n",
    "def parseJson(json_file):\n",
    "    pattern = r\"(?:cam(1|2)_)?img_(\\d{4}-\\d{2}-\\d{2})T(\\d{2}-\\d{2}-\\d{2})(?:-(\\d+))?\\.png\"\n",
    "    \n",
    "    record_id = 1\n",
    "\n",
    "    with open('Sensors.dat', 'w') as builds_file:\n",
    "    \n",
    "        with open(json_file, 'r') as f:\n",
    "            builds = json.loads(f.read()) \n",
    "            for build, data in builds.items():\n",
    "                normalized_build = normalize_build(build) # Normalizes the build name\n",
    "                \n",
    "                for item in data:\n",
    "                    match_result = re.match(pattern, item)\n",
    "                    if match_result:\n",
    "                        cam, date, time, extra = match_result.groups()\n",
    "\n",
    "                        cam = f\"cam{cam}\" if cam else \"NULL\"\n",
    "                        \n",
    "                        formatted_time = time.replace('-', ':')\n",
    "                        \n",
    "                        # Note: Extra is excluded from the record, since it only appears in one build\n",
    "                        record = columnSeparator.join([str(record_id), normalized_build, cam, date, formatted_time]) # creates the record/row\n",
    "                        \n",
    "                        record_id += 1\n",
    "\n",
    "                        builds_file.write(record + '\\n')\n",
    "\n",
    "parseJson('eos_cam.json')"
   ]
  },
  {
   "cell_type": "code",
   "execution_count": null,
   "id": "4f4869e5",
   "metadata": {},
   "outputs": [],
   "source": []
  }
 ],
 "metadata": {
  "kernelspec": {
   "display_name": "Python 3",
   "language": "python",
   "name": "python3"
  },
  "language_info": {
   "codemirror_mode": {
    "name": "ipython",
    "version": 3
   },
   "file_extension": ".py",
   "mimetype": "text/x-python",
   "name": "python",
   "nbconvert_exporter": "python",
   "pygments_lexer": "ipython3",
   "version": "3.10.7"
  }
 },
 "nbformat": 4,
 "nbformat_minor": 5
}
