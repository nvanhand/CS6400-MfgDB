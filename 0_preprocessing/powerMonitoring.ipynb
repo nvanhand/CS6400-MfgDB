{
 "cells": [
  {
   "cell_type": "code",
   "execution_count": 21,
   "metadata": {},
   "outputs": [],
   "source": [
    "import os\n",
    "import pandas as pd\n",
    "from numpy.random import rand\n",
    "\n",
    "path = '/Users/nikkivanhandel/Desktop/L0001.csv'"
   ]
  },
  {
   "cell_type": "markdown",
   "metadata": {},
   "source": [
    "The following data set is from the NIST Additive Manufacturing Metrology Testbed. The given file is a single layer for their machine\n",
    "\n",
    "https://www.nist.gov/publications/process-monitoring-dataset-additive-manufacturing-metrology-testbed-ammt-overhang-part"
   ]
  },
  {
   "cell_type": "code",
   "execution_count": 16,
   "metadata": {},
   "outputs": [],
   "source": [
    "# Channel names (x position, yposition, power, trigger (laser on or off))\n",
    "df = pd.read_csv(path, names=['X', 'Y', 'P', 'T']) \n",
    "df.drop('T', axis=1, inplace=True) # Trigger command isn't imporant "
   ]
  },
  {
   "cell_type": "markdown",
   "metadata": {},
   "source": [
    "In the original file, absolute time is not given. Rather, each row corresponds to a command given at 100 kHz; each row is 1 microsecond apart. While the data files for this build are available, its simpler to just add noise to this to simulate a recorded data. To use this for the example, we will downsample to data to 100 Hz and add noise +/- 5 volts."
   ]
  },
  {
   "cell_type": "code",
   "execution_count": 22,
   "metadata": {},
   "outputs": [
    {
     "data": {
      "text/plain": [
       "array([0.27119223, 0.75710014, 0.38668946, 0.87160551, 0.91478004,\n",
       "       0.25917804, 0.22454185, 0.26519482, 0.28486714, 0.93462062])"
      ]
     },
     "execution_count": 22,
     "metadata": {},
     "output_type": "execute_result"
    }
   ],
   "source": [
    "# Downsample from 100,000 Hz to 100 Hz, each time incrememnt is 0.01s apart\n",
    "downsampled = df.loc[::1000].reset_index(drop=True)\n",
    "rand(10)"
   ]
  }
 ],
 "metadata": {
  "kernelspec": {
   "display_name": "Python 3",
   "language": "python",
   "name": "python3"
  },
  "language_info": {
   "codemirror_mode": {
    "name": "ipython",
    "version": 3
   },
   "file_extension": ".py",
   "mimetype": "text/x-python",
   "name": "python",
   "nbconvert_exporter": "python",
   "pygments_lexer": "ipython3",
   "version": "3.12.2"
  }
 },
 "nbformat": 4,
 "nbformat_minor": 2
}
